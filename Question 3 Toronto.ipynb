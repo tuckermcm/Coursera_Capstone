{
 "cells": [
  {
   "cell_type": "code",
   "execution_count": 1,
   "metadata": {},
   "outputs": [],
   "source": [
    "import pandas as pd"
   ]
  },
  {
   "cell_type": "code",
   "execution_count": 3,
   "metadata": {},
   "outputs": [],
   "source": [
    "url = \"https://en.wikipedia.org/wiki/List_of_postal_codes_of_Canada:_M\""
   ]
  },
  {
   "cell_type": "code",
   "execution_count": 7,
   "metadata": {},
   "outputs": [],
   "source": [
    "#read tables into list\n",
    "tables = pd.read_html(url)"
   ]
  },
  {
   "cell_type": "code",
   "execution_count": 9,
   "metadata": {},
   "outputs": [],
   "source": [
    "#reading first table from list into dataframe\n",
    "df = tables[0]"
   ]
  },
  {
   "cell_type": "code",
   "execution_count": 10,
   "metadata": {},
   "outputs": [
    {
     "data": {
      "text/html": [
       "<div>\n",
       "<style scoped>\n",
       "    .dataframe tbody tr th:only-of-type {\n",
       "        vertical-align: middle;\n",
       "    }\n",
       "\n",
       "    .dataframe tbody tr th {\n",
       "        vertical-align: top;\n",
       "    }\n",
       "\n",
       "    .dataframe thead th {\n",
       "        text-align: right;\n",
       "    }\n",
       "</style>\n",
       "<table border=\"1\" class=\"dataframe\">\n",
       "  <thead>\n",
       "    <tr style=\"text-align: right;\">\n",
       "      <th></th>\n",
       "      <th>Postal Code</th>\n",
       "      <th>Borough</th>\n",
       "      <th>Neighbourhood</th>\n",
       "    </tr>\n",
       "  </thead>\n",
       "  <tbody>\n",
       "    <tr>\n",
       "      <th>0</th>\n",
       "      <td>M1A</td>\n",
       "      <td>Not assigned</td>\n",
       "      <td>Not assigned</td>\n",
       "    </tr>\n",
       "    <tr>\n",
       "      <th>1</th>\n",
       "      <td>M2A</td>\n",
       "      <td>Not assigned</td>\n",
       "      <td>Not assigned</td>\n",
       "    </tr>\n",
       "    <tr>\n",
       "      <th>2</th>\n",
       "      <td>M3A</td>\n",
       "      <td>North York</td>\n",
       "      <td>Parkwoods</td>\n",
       "    </tr>\n",
       "    <tr>\n",
       "      <th>3</th>\n",
       "      <td>M4A</td>\n",
       "      <td>North York</td>\n",
       "      <td>Victoria Village</td>\n",
       "    </tr>\n",
       "    <tr>\n",
       "      <th>4</th>\n",
       "      <td>M5A</td>\n",
       "      <td>Downtown Toronto</td>\n",
       "      <td>Regent Park, Harbourfront</td>\n",
       "    </tr>\n",
       "  </tbody>\n",
       "</table>\n",
       "</div>"
      ],
      "text/plain": [
       "  Postal Code           Borough              Neighbourhood\n",
       "0         M1A      Not assigned               Not assigned\n",
       "1         M2A      Not assigned               Not assigned\n",
       "2         M3A        North York                  Parkwoods\n",
       "3         M4A        North York           Victoria Village\n",
       "4         M5A  Downtown Toronto  Regent Park, Harbourfront"
      ]
     },
     "execution_count": 10,
     "metadata": {},
     "output_type": "execute_result"
    }
   ],
   "source": [
    "df.head()"
   ]
  },
  {
   "cell_type": "code",
   "execution_count": 13,
   "metadata": {},
   "outputs": [],
   "source": [
    "#Replacing Not assigned values as empty ones\n",
    "import numpy as np\n",
    "from numpy import nan\n",
    "df['Borough'] = df['Borough'].replace(['Not assigned'], nan)"
   ]
  },
  {
   "cell_type": "code",
   "execution_count": 14,
   "metadata": {},
   "outputs": [
    {
     "data": {
      "text/html": [
       "<div>\n",
       "<style scoped>\n",
       "    .dataframe tbody tr th:only-of-type {\n",
       "        vertical-align: middle;\n",
       "    }\n",
       "\n",
       "    .dataframe tbody tr th {\n",
       "        vertical-align: top;\n",
       "    }\n",
       "\n",
       "    .dataframe thead th {\n",
       "        text-align: right;\n",
       "    }\n",
       "</style>\n",
       "<table border=\"1\" class=\"dataframe\">\n",
       "  <thead>\n",
       "    <tr style=\"text-align: right;\">\n",
       "      <th></th>\n",
       "      <th>Postal Code</th>\n",
       "      <th>Borough</th>\n",
       "      <th>Neighbourhood</th>\n",
       "    </tr>\n",
       "  </thead>\n",
       "  <tbody>\n",
       "    <tr>\n",
       "      <th>0</th>\n",
       "      <td>M1A</td>\n",
       "      <td>NaN</td>\n",
       "      <td>Not assigned</td>\n",
       "    </tr>\n",
       "    <tr>\n",
       "      <th>1</th>\n",
       "      <td>M2A</td>\n",
       "      <td>NaN</td>\n",
       "      <td>Not assigned</td>\n",
       "    </tr>\n",
       "    <tr>\n",
       "      <th>2</th>\n",
       "      <td>M3A</td>\n",
       "      <td>North York</td>\n",
       "      <td>Parkwoods</td>\n",
       "    </tr>\n",
       "    <tr>\n",
       "      <th>3</th>\n",
       "      <td>M4A</td>\n",
       "      <td>North York</td>\n",
       "      <td>Victoria Village</td>\n",
       "    </tr>\n",
       "    <tr>\n",
       "      <th>4</th>\n",
       "      <td>M5A</td>\n",
       "      <td>Downtown Toronto</td>\n",
       "      <td>Regent Park, Harbourfront</td>\n",
       "    </tr>\n",
       "  </tbody>\n",
       "</table>\n",
       "</div>"
      ],
      "text/plain": [
       "  Postal Code           Borough              Neighbourhood\n",
       "0         M1A               NaN               Not assigned\n",
       "1         M2A               NaN               Not assigned\n",
       "2         M3A        North York                  Parkwoods\n",
       "3         M4A        North York           Victoria Village\n",
       "4         M5A  Downtown Toronto  Regent Park, Harbourfront"
      ]
     },
     "execution_count": 14,
     "metadata": {},
     "output_type": "execute_result"
    }
   ],
   "source": [
    "df.head()"
   ]
  },
  {
   "cell_type": "code",
   "execution_count": 15,
   "metadata": {},
   "outputs": [],
   "source": [
    "#dropping empty rows\n",
    "df.dropna(how='any', inplace=True)"
   ]
  },
  {
   "cell_type": "code",
   "execution_count": 16,
   "metadata": {},
   "outputs": [
    {
     "data": {
      "text/html": [
       "<div>\n",
       "<style scoped>\n",
       "    .dataframe tbody tr th:only-of-type {\n",
       "        vertical-align: middle;\n",
       "    }\n",
       "\n",
       "    .dataframe tbody tr th {\n",
       "        vertical-align: top;\n",
       "    }\n",
       "\n",
       "    .dataframe thead th {\n",
       "        text-align: right;\n",
       "    }\n",
       "</style>\n",
       "<table border=\"1\" class=\"dataframe\">\n",
       "  <thead>\n",
       "    <tr style=\"text-align: right;\">\n",
       "      <th></th>\n",
       "      <th>Postal Code</th>\n",
       "      <th>Borough</th>\n",
       "      <th>Neighbourhood</th>\n",
       "    </tr>\n",
       "  </thead>\n",
       "  <tbody>\n",
       "    <tr>\n",
       "      <th>2</th>\n",
       "      <td>M3A</td>\n",
       "      <td>North York</td>\n",
       "      <td>Parkwoods</td>\n",
       "    </tr>\n",
       "    <tr>\n",
       "      <th>3</th>\n",
       "      <td>M4A</td>\n",
       "      <td>North York</td>\n",
       "      <td>Victoria Village</td>\n",
       "    </tr>\n",
       "    <tr>\n",
       "      <th>4</th>\n",
       "      <td>M5A</td>\n",
       "      <td>Downtown Toronto</td>\n",
       "      <td>Regent Park, Harbourfront</td>\n",
       "    </tr>\n",
       "    <tr>\n",
       "      <th>5</th>\n",
       "      <td>M6A</td>\n",
       "      <td>North York</td>\n",
       "      <td>Lawrence Manor, Lawrence Heights</td>\n",
       "    </tr>\n",
       "    <tr>\n",
       "      <th>6</th>\n",
       "      <td>M7A</td>\n",
       "      <td>Downtown Toronto</td>\n",
       "      <td>Queen's Park, Ontario Provincial Government</td>\n",
       "    </tr>\n",
       "  </tbody>\n",
       "</table>\n",
       "</div>"
      ],
      "text/plain": [
       "  Postal Code           Borough                                Neighbourhood\n",
       "2         M3A        North York                                    Parkwoods\n",
       "3         M4A        North York                             Victoria Village\n",
       "4         M5A  Downtown Toronto                    Regent Park, Harbourfront\n",
       "5         M6A        North York             Lawrence Manor, Lawrence Heights\n",
       "6         M7A  Downtown Toronto  Queen's Park, Ontario Provincial Government"
      ]
     },
     "execution_count": 16,
     "metadata": {},
     "output_type": "execute_result"
    }
   ],
   "source": [
    "df.head()"
   ]
  },
  {
   "cell_type": "code",
   "execution_count": 18,
   "metadata": {},
   "outputs": [
    {
     "data": {
      "text/plain": [
       "(103, 3)"
      ]
     },
     "execution_count": 18,
     "metadata": {},
     "output_type": "execute_result"
    }
   ],
   "source": [
    "df.shape"
   ]
  },
  {
   "cell_type": "code",
   "execution_count": 19,
   "metadata": {},
   "outputs": [],
   "source": [
    "df.reset_index(inplace=True)"
   ]
  },
  {
   "cell_type": "code",
   "execution_count": 20,
   "metadata": {},
   "outputs": [
    {
     "data": {
      "text/html": [
       "<div>\n",
       "<style scoped>\n",
       "    .dataframe tbody tr th:only-of-type {\n",
       "        vertical-align: middle;\n",
       "    }\n",
       "\n",
       "    .dataframe tbody tr th {\n",
       "        vertical-align: top;\n",
       "    }\n",
       "\n",
       "    .dataframe thead th {\n",
       "        text-align: right;\n",
       "    }\n",
       "</style>\n",
       "<table border=\"1\" class=\"dataframe\">\n",
       "  <thead>\n",
       "    <tr style=\"text-align: right;\">\n",
       "      <th></th>\n",
       "      <th>index</th>\n",
       "      <th>Postal Code</th>\n",
       "      <th>Borough</th>\n",
       "      <th>Neighbourhood</th>\n",
       "    </tr>\n",
       "  </thead>\n",
       "  <tbody>\n",
       "    <tr>\n",
       "      <th>0</th>\n",
       "      <td>2</td>\n",
       "      <td>M3A</td>\n",
       "      <td>North York</td>\n",
       "      <td>Parkwoods</td>\n",
       "    </tr>\n",
       "    <tr>\n",
       "      <th>1</th>\n",
       "      <td>3</td>\n",
       "      <td>M4A</td>\n",
       "      <td>North York</td>\n",
       "      <td>Victoria Village</td>\n",
       "    </tr>\n",
       "    <tr>\n",
       "      <th>2</th>\n",
       "      <td>4</td>\n",
       "      <td>M5A</td>\n",
       "      <td>Downtown Toronto</td>\n",
       "      <td>Regent Park, Harbourfront</td>\n",
       "    </tr>\n",
       "    <tr>\n",
       "      <th>3</th>\n",
       "      <td>5</td>\n",
       "      <td>M6A</td>\n",
       "      <td>North York</td>\n",
       "      <td>Lawrence Manor, Lawrence Heights</td>\n",
       "    </tr>\n",
       "    <tr>\n",
       "      <th>4</th>\n",
       "      <td>6</td>\n",
       "      <td>M7A</td>\n",
       "      <td>Downtown Toronto</td>\n",
       "      <td>Queen's Park, Ontario Provincial Government</td>\n",
       "    </tr>\n",
       "  </tbody>\n",
       "</table>\n",
       "</div>"
      ],
      "text/plain": [
       "   index Postal Code           Borough  \\\n",
       "0      2         M3A        North York   \n",
       "1      3         M4A        North York   \n",
       "2      4         M5A  Downtown Toronto   \n",
       "3      5         M6A        North York   \n",
       "4      6         M7A  Downtown Toronto   \n",
       "\n",
       "                                 Neighbourhood  \n",
       "0                                    Parkwoods  \n",
       "1                             Victoria Village  \n",
       "2                    Regent Park, Harbourfront  \n",
       "3             Lawrence Manor, Lawrence Heights  \n",
       "4  Queen's Park, Ontario Provincial Government  "
      ]
     },
     "execution_count": 20,
     "metadata": {},
     "output_type": "execute_result"
    }
   ],
   "source": [
    "df.head()"
   ]
  },
  {
   "cell_type": "code",
   "execution_count": 21,
   "metadata": {},
   "outputs": [],
   "source": [
    "df.drop(columns='index', inplace=True)"
   ]
  },
  {
   "cell_type": "code",
   "execution_count": 22,
   "metadata": {},
   "outputs": [
    {
     "data": {
      "text/html": [
       "<div>\n",
       "<style scoped>\n",
       "    .dataframe tbody tr th:only-of-type {\n",
       "        vertical-align: middle;\n",
       "    }\n",
       "\n",
       "    .dataframe tbody tr th {\n",
       "        vertical-align: top;\n",
       "    }\n",
       "\n",
       "    .dataframe thead th {\n",
       "        text-align: right;\n",
       "    }\n",
       "</style>\n",
       "<table border=\"1\" class=\"dataframe\">\n",
       "  <thead>\n",
       "    <tr style=\"text-align: right;\">\n",
       "      <th></th>\n",
       "      <th>Postal Code</th>\n",
       "      <th>Borough</th>\n",
       "      <th>Neighbourhood</th>\n",
       "    </tr>\n",
       "  </thead>\n",
       "  <tbody>\n",
       "    <tr>\n",
       "      <th>0</th>\n",
       "      <td>M3A</td>\n",
       "      <td>North York</td>\n",
       "      <td>Parkwoods</td>\n",
       "    </tr>\n",
       "    <tr>\n",
       "      <th>1</th>\n",
       "      <td>M4A</td>\n",
       "      <td>North York</td>\n",
       "      <td>Victoria Village</td>\n",
       "    </tr>\n",
       "    <tr>\n",
       "      <th>2</th>\n",
       "      <td>M5A</td>\n",
       "      <td>Downtown Toronto</td>\n",
       "      <td>Regent Park, Harbourfront</td>\n",
       "    </tr>\n",
       "    <tr>\n",
       "      <th>3</th>\n",
       "      <td>M6A</td>\n",
       "      <td>North York</td>\n",
       "      <td>Lawrence Manor, Lawrence Heights</td>\n",
       "    </tr>\n",
       "    <tr>\n",
       "      <th>4</th>\n",
       "      <td>M7A</td>\n",
       "      <td>Downtown Toronto</td>\n",
       "      <td>Queen's Park, Ontario Provincial Government</td>\n",
       "    </tr>\n",
       "  </tbody>\n",
       "</table>\n",
       "</div>"
      ],
      "text/plain": [
       "  Postal Code           Borough                                Neighbourhood\n",
       "0         M3A        North York                                    Parkwoods\n",
       "1         M4A        North York                             Victoria Village\n",
       "2         M5A  Downtown Toronto                    Regent Park, Harbourfront\n",
       "3         M6A        North York             Lawrence Manor, Lawrence Heights\n",
       "4         M7A  Downtown Toronto  Queen's Park, Ontario Provincial Government"
      ]
     },
     "execution_count": 22,
     "metadata": {},
     "output_type": "execute_result"
    }
   ],
   "source": [
    "df.head()"
   ]
  },
  {
   "cell_type": "code",
   "execution_count": 55,
   "metadata": {},
   "outputs": [],
   "source": [
    "#combining rows\n",
    "df = df.groupby('Postal Code').agg(lambda x: ','.join(set(x)))"
   ]
  },
  {
   "cell_type": "code",
   "execution_count": 73,
   "metadata": {},
   "outputs": [
    {
     "data": {
      "text/plain": [
       "(103, 2)"
      ]
     },
     "execution_count": 73,
     "metadata": {},
     "output_type": "execute_result"
    }
   ],
   "source": [
    "##End of first Question\n",
    "df.shape"
   ]
  },
  {
   "cell_type": "code",
   "execution_count": 59,
   "metadata": {},
   "outputs": [
    {
     "data": {
      "text/html": [
       "<div>\n",
       "<style scoped>\n",
       "    .dataframe tbody tr th:only-of-type {\n",
       "        vertical-align: middle;\n",
       "    }\n",
       "\n",
       "    .dataframe tbody tr th {\n",
       "        vertical-align: top;\n",
       "    }\n",
       "\n",
       "    .dataframe thead th {\n",
       "        text-align: right;\n",
       "    }\n",
       "</style>\n",
       "<table border=\"1\" class=\"dataframe\">\n",
       "  <thead>\n",
       "    <tr style=\"text-align: right;\">\n",
       "      <th></th>\n",
       "      <th>Borough</th>\n",
       "      <th>Neighbourhood</th>\n",
       "    </tr>\n",
       "    <tr>\n",
       "      <th>Postal Code</th>\n",
       "      <th></th>\n",
       "      <th></th>\n",
       "    </tr>\n",
       "  </thead>\n",
       "  <tbody>\n",
       "    <tr>\n",
       "      <th>M1B</th>\n",
       "      <td>Scarborough</td>\n",
       "      <td>Malvern, Rouge</td>\n",
       "    </tr>\n",
       "    <tr>\n",
       "      <th>M1C</th>\n",
       "      <td>Scarborough</td>\n",
       "      <td>Rouge Hill, Port Union, Highland Creek</td>\n",
       "    </tr>\n",
       "    <tr>\n",
       "      <th>M1E</th>\n",
       "      <td>Scarborough</td>\n",
       "      <td>Guildwood, Morningside, West Hill</td>\n",
       "    </tr>\n",
       "    <tr>\n",
       "      <th>M1G</th>\n",
       "      <td>Scarborough</td>\n",
       "      <td>Woburn</td>\n",
       "    </tr>\n",
       "    <tr>\n",
       "      <th>M1H</th>\n",
       "      <td>Scarborough</td>\n",
       "      <td>Cedarbrae</td>\n",
       "    </tr>\n",
       "  </tbody>\n",
       "</table>\n",
       "</div>"
      ],
      "text/plain": [
       "                 Borough                           Neighbourhood\n",
       "Postal Code                                                     \n",
       "M1B          Scarborough                          Malvern, Rouge\n",
       "M1C          Scarborough  Rouge Hill, Port Union, Highland Creek\n",
       "M1E          Scarborough       Guildwood, Morningside, West Hill\n",
       "M1G          Scarborough                                  Woburn\n",
       "M1H          Scarborough                               Cedarbrae"
      ]
     },
     "execution_count": 59,
     "metadata": {},
     "output_type": "execute_result"
    }
   ],
   "source": [
    "df.head()"
   ]
  },
  {
   "cell_type": "code",
   "execution_count": 63,
   "metadata": {},
   "outputs": [],
   "source": [
    "coordinates = pd.read_csv('Geospatial_Coordinates.csv')"
   ]
  },
  {
   "cell_type": "code",
   "execution_count": 64,
   "metadata": {},
   "outputs": [
    {
     "data": {
      "text/html": [
       "<div>\n",
       "<style scoped>\n",
       "    .dataframe tbody tr th:only-of-type {\n",
       "        vertical-align: middle;\n",
       "    }\n",
       "\n",
       "    .dataframe tbody tr th {\n",
       "        vertical-align: top;\n",
       "    }\n",
       "\n",
       "    .dataframe thead th {\n",
       "        text-align: right;\n",
       "    }\n",
       "</style>\n",
       "<table border=\"1\" class=\"dataframe\">\n",
       "  <thead>\n",
       "    <tr style=\"text-align: right;\">\n",
       "      <th></th>\n",
       "      <th>Postal Code</th>\n",
       "      <th>Latitude</th>\n",
       "      <th>Longitude</th>\n",
       "    </tr>\n",
       "  </thead>\n",
       "  <tbody>\n",
       "    <tr>\n",
       "      <th>0</th>\n",
       "      <td>M1B</td>\n",
       "      <td>43.806686</td>\n",
       "      <td>-79.194353</td>\n",
       "    </tr>\n",
       "    <tr>\n",
       "      <th>1</th>\n",
       "      <td>M1C</td>\n",
       "      <td>43.784535</td>\n",
       "      <td>-79.160497</td>\n",
       "    </tr>\n",
       "    <tr>\n",
       "      <th>2</th>\n",
       "      <td>M1E</td>\n",
       "      <td>43.763573</td>\n",
       "      <td>-79.188711</td>\n",
       "    </tr>\n",
       "    <tr>\n",
       "      <th>3</th>\n",
       "      <td>M1G</td>\n",
       "      <td>43.770992</td>\n",
       "      <td>-79.216917</td>\n",
       "    </tr>\n",
       "    <tr>\n",
       "      <th>4</th>\n",
       "      <td>M1H</td>\n",
       "      <td>43.773136</td>\n",
       "      <td>-79.239476</td>\n",
       "    </tr>\n",
       "  </tbody>\n",
       "</table>\n",
       "</div>"
      ],
      "text/plain": [
       "  Postal Code   Latitude  Longitude\n",
       "0         M1B  43.806686 -79.194353\n",
       "1         M1C  43.784535 -79.160497\n",
       "2         M1E  43.763573 -79.188711\n",
       "3         M1G  43.770992 -79.216917\n",
       "4         M1H  43.773136 -79.239476"
      ]
     },
     "execution_count": 64,
     "metadata": {},
     "output_type": "execute_result"
    }
   ],
   "source": [
    "coordinates.head()"
   ]
  },
  {
   "cell_type": "code",
   "execution_count": 65,
   "metadata": {},
   "outputs": [],
   "source": [
    "#merging two sets\n",
    "df2 = pd.merge(df, coordinates, left_on=['Postal Code'], right_on=['Postal Code'])"
   ]
  },
  {
   "cell_type": "code",
   "execution_count": 66,
   "metadata": {},
   "outputs": [
    {
     "data": {
      "text/html": [
       "<div>\n",
       "<style scoped>\n",
       "    .dataframe tbody tr th:only-of-type {\n",
       "        vertical-align: middle;\n",
       "    }\n",
       "\n",
       "    .dataframe tbody tr th {\n",
       "        vertical-align: top;\n",
       "    }\n",
       "\n",
       "    .dataframe thead th {\n",
       "        text-align: right;\n",
       "    }\n",
       "</style>\n",
       "<table border=\"1\" class=\"dataframe\">\n",
       "  <thead>\n",
       "    <tr style=\"text-align: right;\">\n",
       "      <th></th>\n",
       "      <th>Postal Code</th>\n",
       "      <th>Borough</th>\n",
       "      <th>Neighbourhood</th>\n",
       "      <th>Latitude</th>\n",
       "      <th>Longitude</th>\n",
       "    </tr>\n",
       "  </thead>\n",
       "  <tbody>\n",
       "    <tr>\n",
       "      <th>0</th>\n",
       "      <td>M1B</td>\n",
       "      <td>Scarborough</td>\n",
       "      <td>Malvern, Rouge</td>\n",
       "      <td>43.806686</td>\n",
       "      <td>-79.194353</td>\n",
       "    </tr>\n",
       "    <tr>\n",
       "      <th>1</th>\n",
       "      <td>M1C</td>\n",
       "      <td>Scarborough</td>\n",
       "      <td>Rouge Hill, Port Union, Highland Creek</td>\n",
       "      <td>43.784535</td>\n",
       "      <td>-79.160497</td>\n",
       "    </tr>\n",
       "    <tr>\n",
       "      <th>2</th>\n",
       "      <td>M1E</td>\n",
       "      <td>Scarborough</td>\n",
       "      <td>Guildwood, Morningside, West Hill</td>\n",
       "      <td>43.763573</td>\n",
       "      <td>-79.188711</td>\n",
       "    </tr>\n",
       "    <tr>\n",
       "      <th>3</th>\n",
       "      <td>M1G</td>\n",
       "      <td>Scarborough</td>\n",
       "      <td>Woburn</td>\n",
       "      <td>43.770992</td>\n",
       "      <td>-79.216917</td>\n",
       "    </tr>\n",
       "    <tr>\n",
       "      <th>4</th>\n",
       "      <td>M1H</td>\n",
       "      <td>Scarborough</td>\n",
       "      <td>Cedarbrae</td>\n",
       "      <td>43.773136</td>\n",
       "      <td>-79.239476</td>\n",
       "    </tr>\n",
       "  </tbody>\n",
       "</table>\n",
       "</div>"
      ],
      "text/plain": [
       "  Postal Code      Borough                           Neighbourhood   Latitude  \\\n",
       "0         M1B  Scarborough                          Malvern, Rouge  43.806686   \n",
       "1         M1C  Scarborough  Rouge Hill, Port Union, Highland Creek  43.784535   \n",
       "2         M1E  Scarborough       Guildwood, Morningside, West Hill  43.763573   \n",
       "3         M1G  Scarborough                                  Woburn  43.770992   \n",
       "4         M1H  Scarborough                               Cedarbrae  43.773136   \n",
       "\n",
       "   Longitude  \n",
       "0 -79.194353  \n",
       "1 -79.160497  \n",
       "2 -79.188711  \n",
       "3 -79.216917  \n",
       "4 -79.239476  "
      ]
     },
     "execution_count": 66,
     "metadata": {},
     "output_type": "execute_result"
    }
   ],
   "source": [
    "df2.head()"
   ]
  },
  {
   "cell_type": "code",
   "execution_count": 70,
   "metadata": {},
   "outputs": [],
   "source": [
    "#renaming columns\n",
    "df2.rename(columns={'Postal Code':'PostalCode'}, inplace=True)"
   ]
  },
  {
   "cell_type": "code",
   "execution_count": 71,
   "metadata": {},
   "outputs": [
    {
     "data": {
      "text/html": [
       "<div>\n",
       "<style scoped>\n",
       "    .dataframe tbody tr th:only-of-type {\n",
       "        vertical-align: middle;\n",
       "    }\n",
       "\n",
       "    .dataframe tbody tr th {\n",
       "        vertical-align: top;\n",
       "    }\n",
       "\n",
       "    .dataframe thead th {\n",
       "        text-align: right;\n",
       "    }\n",
       "</style>\n",
       "<table border=\"1\" class=\"dataframe\">\n",
       "  <thead>\n",
       "    <tr style=\"text-align: right;\">\n",
       "      <th></th>\n",
       "      <th>PostalCode</th>\n",
       "      <th>Borough</th>\n",
       "      <th>Neighbourhood</th>\n",
       "      <th>Latitude</th>\n",
       "      <th>Longitude</th>\n",
       "    </tr>\n",
       "  </thead>\n",
       "  <tbody>\n",
       "    <tr>\n",
       "      <th>0</th>\n",
       "      <td>M1B</td>\n",
       "      <td>Scarborough</td>\n",
       "      <td>Malvern, Rouge</td>\n",
       "      <td>43.806686</td>\n",
       "      <td>-79.194353</td>\n",
       "    </tr>\n",
       "    <tr>\n",
       "      <th>1</th>\n",
       "      <td>M1C</td>\n",
       "      <td>Scarborough</td>\n",
       "      <td>Rouge Hill, Port Union, Highland Creek</td>\n",
       "      <td>43.784535</td>\n",
       "      <td>-79.160497</td>\n",
       "    </tr>\n",
       "    <tr>\n",
       "      <th>2</th>\n",
       "      <td>M1E</td>\n",
       "      <td>Scarborough</td>\n",
       "      <td>Guildwood, Morningside, West Hill</td>\n",
       "      <td>43.763573</td>\n",
       "      <td>-79.188711</td>\n",
       "    </tr>\n",
       "    <tr>\n",
       "      <th>3</th>\n",
       "      <td>M1G</td>\n",
       "      <td>Scarborough</td>\n",
       "      <td>Woburn</td>\n",
       "      <td>43.770992</td>\n",
       "      <td>-79.216917</td>\n",
       "    </tr>\n",
       "    <tr>\n",
       "      <th>4</th>\n",
       "      <td>M1H</td>\n",
       "      <td>Scarborough</td>\n",
       "      <td>Cedarbrae</td>\n",
       "      <td>43.773136</td>\n",
       "      <td>-79.239476</td>\n",
       "    </tr>\n",
       "  </tbody>\n",
       "</table>\n",
       "</div>"
      ],
      "text/plain": [
       "  PostalCode      Borough                           Neighbourhood   Latitude  \\\n",
       "0        M1B  Scarborough                          Malvern, Rouge  43.806686   \n",
       "1        M1C  Scarborough  Rouge Hill, Port Union, Highland Creek  43.784535   \n",
       "2        M1E  Scarborough       Guildwood, Morningside, West Hill  43.763573   \n",
       "3        M1G  Scarborough                                  Woburn  43.770992   \n",
       "4        M1H  Scarborough                               Cedarbrae  43.773136   \n",
       "\n",
       "   Longitude  \n",
       "0 -79.194353  \n",
       "1 -79.160497  \n",
       "2 -79.188711  \n",
       "3 -79.216917  \n",
       "4 -79.239476  "
      ]
     },
     "execution_count": 71,
     "metadata": {},
     "output_type": "execute_result"
    }
   ],
   "source": [
    "df2.head()"
   ]
  },
  {
   "cell_type": "markdown",
   "metadata": {},
   "source": [
    "##End of Second Question"
   ]
  },
  {
   "cell_type": "code",
   "execution_count": 74,
   "metadata": {},
   "outputs": [],
   "source": [
    "from sklearn.cluster import KMeans"
   ]
  },
  {
   "cell_type": "code",
   "execution_count": 75,
   "metadata": {},
   "outputs": [],
   "source": [
    "import folium"
   ]
  },
  {
   "cell_type": "code",
   "execution_count": 102,
   "metadata": {},
   "outputs": [],
   "source": [
    "toronto = folium.Map(location=[43.6532, -79.3832], zoom_start=10)"
   ]
  },
  {
   "cell_type": "code",
   "execution_count": 82,
   "metadata": {},
   "outputs": [
    {
     "data": {
      "text/html": [
       "<div style=\"width:100%;\"><div style=\"position:relative;width:100%;height:0;padding-bottom:60%;\"><span style=\"color:#565656\">Make this Notebook Trusted to load map: File -> Trust Notebook</span><iframe src=\"about:blank\" style=\"position:absolute;width:100%;height:100%;left:0;top:0;border:none !important;\" data-html=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 onload=\"this.contentDocument.open();this.contentDocument.write(atob(this.getAttribute('data-html')));this.contentDocument.close();\" allowfullscreen webkitallowfullscreen mozallowfullscreen></iframe></div></div>"
      ],
      "text/plain": [
       "<folium.folium.Map at 0x7ffdd82e3250>"
      ]
     },
     "execution_count": 82,
     "metadata": {},
     "output_type": "execute_result"
    }
   ],
   "source": [
    "toronto"
   ]
  },
  {
   "cell_type": "code",
   "execution_count": 86,
   "metadata": {},
   "outputs": [
    {
     "data": {
      "text/html": [
       "<div>\n",
       "<style scoped>\n",
       "    .dataframe tbody tr th:only-of-type {\n",
       "        vertical-align: middle;\n",
       "    }\n",
       "\n",
       "    .dataframe tbody tr th {\n",
       "        vertical-align: top;\n",
       "    }\n",
       "\n",
       "    .dataframe thead th {\n",
       "        text-align: right;\n",
       "    }\n",
       "</style>\n",
       "<table border=\"1\" class=\"dataframe\">\n",
       "  <thead>\n",
       "    <tr style=\"text-align: right;\">\n",
       "      <th></th>\n",
       "      <th>PostalCode</th>\n",
       "      <th>Latitude</th>\n",
       "      <th>Longitude</th>\n",
       "    </tr>\n",
       "  </thead>\n",
       "  <tbody>\n",
       "    <tr>\n",
       "      <th>0</th>\n",
       "      <td>M1B</td>\n",
       "      <td>43.806686</td>\n",
       "      <td>-79.194353</td>\n",
       "    </tr>\n",
       "    <tr>\n",
       "      <th>1</th>\n",
       "      <td>M1C</td>\n",
       "      <td>43.784535</td>\n",
       "      <td>-79.160497</td>\n",
       "    </tr>\n",
       "    <tr>\n",
       "      <th>2</th>\n",
       "      <td>M1E</td>\n",
       "      <td>43.763573</td>\n",
       "      <td>-79.188711</td>\n",
       "    </tr>\n",
       "    <tr>\n",
       "      <th>3</th>\n",
       "      <td>M1G</td>\n",
       "      <td>43.770992</td>\n",
       "      <td>-79.216917</td>\n",
       "    </tr>\n",
       "    <tr>\n",
       "      <th>4</th>\n",
       "      <td>M1H</td>\n",
       "      <td>43.773136</td>\n",
       "      <td>-79.239476</td>\n",
       "    </tr>\n",
       "  </tbody>\n",
       "</table>\n",
       "</div>"
      ],
      "text/plain": [
       "  PostalCode   Latitude  Longitude\n",
       "0        M1B  43.806686 -79.194353\n",
       "1        M1C  43.784535 -79.160497\n",
       "2        M1E  43.763573 -79.188711\n",
       "3        M1G  43.770992 -79.216917\n",
       "4        M1H  43.773136 -79.239476"
      ]
     },
     "execution_count": 86,
     "metadata": {},
     "output_type": "execute_result"
    }
   ],
   "source": [
    "k = 5\n",
    "df3 = df2.drop('Borough', 1)\n",
    "df3.drop('Neighbourhood', 1, inplace=True)\n",
    "df3.head()"
   ]
  },
  {
   "cell_type": "code",
   "execution_count": 88,
   "metadata": {},
   "outputs": [
    {
     "data": {
      "text/html": [
       "<div>\n",
       "<style scoped>\n",
       "    .dataframe tbody tr th:only-of-type {\n",
       "        vertical-align: middle;\n",
       "    }\n",
       "\n",
       "    .dataframe tbody tr th {\n",
       "        vertical-align: top;\n",
       "    }\n",
       "\n",
       "    .dataframe thead th {\n",
       "        text-align: right;\n",
       "    }\n",
       "</style>\n",
       "<table border=\"1\" class=\"dataframe\">\n",
       "  <thead>\n",
       "    <tr style=\"text-align: right;\">\n",
       "      <th></th>\n",
       "      <th>Latitude</th>\n",
       "      <th>Longitude</th>\n",
       "    </tr>\n",
       "    <tr>\n",
       "      <th>PostalCode</th>\n",
       "      <th></th>\n",
       "      <th></th>\n",
       "    </tr>\n",
       "  </thead>\n",
       "  <tbody>\n",
       "    <tr>\n",
       "      <th>M1B</th>\n",
       "      <td>43.806686</td>\n",
       "      <td>-79.194353</td>\n",
       "    </tr>\n",
       "    <tr>\n",
       "      <th>M1C</th>\n",
       "      <td>43.784535</td>\n",
       "      <td>-79.160497</td>\n",
       "    </tr>\n",
       "    <tr>\n",
       "      <th>M1E</th>\n",
       "      <td>43.763573</td>\n",
       "      <td>-79.188711</td>\n",
       "    </tr>\n",
       "    <tr>\n",
       "      <th>M1G</th>\n",
       "      <td>43.770992</td>\n",
       "      <td>-79.216917</td>\n",
       "    </tr>\n",
       "    <tr>\n",
       "      <th>M1H</th>\n",
       "      <td>43.773136</td>\n",
       "      <td>-79.239476</td>\n",
       "    </tr>\n",
       "  </tbody>\n",
       "</table>\n",
       "</div>"
      ],
      "text/plain": [
       "             Latitude  Longitude\n",
       "PostalCode                      \n",
       "M1B         43.806686 -79.194353\n",
       "M1C         43.784535 -79.160497\n",
       "M1E         43.763573 -79.188711\n",
       "M1G         43.770992 -79.216917\n",
       "M1H         43.773136 -79.239476"
      ]
     },
     "execution_count": 88,
     "metadata": {},
     "output_type": "execute_result"
    }
   ],
   "source": [
    "df3.set_index('PostalCode', inplace=True)\n",
    "df3.head()"
   ]
  },
  {
   "cell_type": "code",
   "execution_count": 91,
   "metadata": {},
   "outputs": [],
   "source": [
    "#using KMeans\n",
    "clusters = KMeans(n_clusters=k, random_state=0).fit(df3)"
   ]
  },
  {
   "cell_type": "code",
   "execution_count": 97,
   "metadata": {},
   "outputs": [
    {
     "data": {
      "text/html": [
       "<div>\n",
       "<style scoped>\n",
       "    .dataframe tbody tr th:only-of-type {\n",
       "        vertical-align: middle;\n",
       "    }\n",
       "\n",
       "    .dataframe tbody tr th {\n",
       "        vertical-align: top;\n",
       "    }\n",
       "\n",
       "    .dataframe thead th {\n",
       "        text-align: right;\n",
       "    }\n",
       "</style>\n",
       "<table border=\"1\" class=\"dataframe\">\n",
       "  <thead>\n",
       "    <tr style=\"text-align: right;\">\n",
       "      <th></th>\n",
       "      <th>Cluster Labels</th>\n",
       "      <th>PostalCode</th>\n",
       "      <th>Borough</th>\n",
       "      <th>Neighbourhood</th>\n",
       "      <th>Latitude</th>\n",
       "      <th>Longitude</th>\n",
       "    </tr>\n",
       "  </thead>\n",
       "  <tbody>\n",
       "    <tr>\n",
       "      <th>0</th>\n",
       "      <td>2</td>\n",
       "      <td>M1B</td>\n",
       "      <td>Scarborough</td>\n",
       "      <td>Malvern, Rouge</td>\n",
       "      <td>43.806686</td>\n",
       "      <td>-79.194353</td>\n",
       "    </tr>\n",
       "    <tr>\n",
       "      <th>1</th>\n",
       "      <td>2</td>\n",
       "      <td>M1C</td>\n",
       "      <td>Scarborough</td>\n",
       "      <td>Rouge Hill, Port Union, Highland Creek</td>\n",
       "      <td>43.784535</td>\n",
       "      <td>-79.160497</td>\n",
       "    </tr>\n",
       "    <tr>\n",
       "      <th>2</th>\n",
       "      <td>2</td>\n",
       "      <td>M1E</td>\n",
       "      <td>Scarborough</td>\n",
       "      <td>Guildwood, Morningside, West Hill</td>\n",
       "      <td>43.763573</td>\n",
       "      <td>-79.188711</td>\n",
       "    </tr>\n",
       "    <tr>\n",
       "      <th>3</th>\n",
       "      <td>2</td>\n",
       "      <td>M1G</td>\n",
       "      <td>Scarborough</td>\n",
       "      <td>Woburn</td>\n",
       "      <td>43.770992</td>\n",
       "      <td>-79.216917</td>\n",
       "    </tr>\n",
       "    <tr>\n",
       "      <th>4</th>\n",
       "      <td>2</td>\n",
       "      <td>M1H</td>\n",
       "      <td>Scarborough</td>\n",
       "      <td>Cedarbrae</td>\n",
       "      <td>43.773136</td>\n",
       "      <td>-79.239476</td>\n",
       "    </tr>\n",
       "  </tbody>\n",
       "</table>\n",
       "</div>"
      ],
      "text/plain": [
       "   Cluster Labels PostalCode      Borough  \\\n",
       "0               2        M1B  Scarborough   \n",
       "1               2        M1C  Scarborough   \n",
       "2               2        M1E  Scarborough   \n",
       "3               2        M1G  Scarborough   \n",
       "4               2        M1H  Scarborough   \n",
       "\n",
       "                            Neighbourhood   Latitude  Longitude  \n",
       "0                          Malvern, Rouge  43.806686 -79.194353  \n",
       "1  Rouge Hill, Port Union, Highland Creek  43.784535 -79.160497  \n",
       "2       Guildwood, Morningside, West Hill  43.763573 -79.188711  \n",
       "3                                  Woburn  43.770992 -79.216917  \n",
       "4                               Cedarbrae  43.773136 -79.239476  "
      ]
     },
     "execution_count": 97,
     "metadata": {},
     "output_type": "execute_result"
    }
   ],
   "source": [
    "#cluster centers\n",
    "clusters.labels_\n",
    "df2.insert(0, 'Cluster Labels', clusters.labels_)\n",
    "df2.head()"
   ]
  },
  {
   "cell_type": "code",
   "execution_count": 103,
   "metadata": {},
   "outputs": [
    {
     "data": {
      "text/html": [
       "<div style=\"width:100%;\"><div style=\"position:relative;width:100%;height:0;padding-bottom:60%;\"><span style=\"color:#565656\">Make this Notebook Trusted to load map: File -> Trust Notebook</span><iframe src=\"about:blank\" style=\"position:absolute;width:100%;height:100%;left:0;top:0;border:none !important;\" data-html=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 onload=\"this.contentDocument.open();this.contentDocument.write(atob(this.getAttribute('data-html')));this.contentDocument.close();\" allowfullscreen webkitallowfullscreen mozallowfullscreen></iframe></div></div>"
      ],
      "text/plain": [
       "<folium.folium.Map at 0x7ffdd6375670>"
      ]
     },
     "execution_count": 103,
     "metadata": {},
     "output_type": "execute_result"
    }
   ],
   "source": [
    "#plotting points on map\n",
    "import numpy as np\n",
    "import matplotlib.cm as cm\n",
    "import matplotlib.colors as colors\n",
    "x = np.arange(k)\n",
    "ys = [i + x + (i*x)**2 for i in range(k)]\n",
    "colors_array = cm.rainbow(np.linspace(0, 1, len(ys)))\n",
    "rainbow = [colors.rgb2hex(i) for i in colors_array]\n",
    "\n",
    "# add markers to the map\n",
    "markers_colors = []\n",
    "for lat, lon, poi, cluster in zip(df2['Latitude'], df2['Longitude'], df2['PostalCode'], df2['Cluster Labels']):\n",
    "    label = folium.Popup(str(poi) + ' Cluster ' + str(cluster), parse_html=True)\n",
    "    folium.CircleMarker(\n",
    "        [lat, lon],\n",
    "        radius=5,\n",
    "        popup=label,\n",
    "        color=rainbow[cluster-1],\n",
    "        fill=True,\n",
    "        fill_color=rainbow[cluster-1],\n",
    "        fill_opacity=0.7).add_to(toronto)\n",
    "       \n",
    "toronto"
   ]
  },
  {
   "cell_type": "code",
   "execution_count": null,
   "metadata": {},
   "outputs": [],
   "source": []
  }
 ],
 "metadata": {
  "kernelspec": {
   "display_name": "Python 3",
   "language": "python",
   "name": "python3"
  },
  "language_info": {
   "codemirror_mode": {
    "name": "ipython",
    "version": 3
   },
   "file_extension": ".py",
   "mimetype": "text/x-python",
   "name": "python",
   "nbconvert_exporter": "python",
   "pygments_lexer": "ipython3",
   "version": "3.8.3"
  }
 },
 "nbformat": 4,
 "nbformat_minor": 4
}
